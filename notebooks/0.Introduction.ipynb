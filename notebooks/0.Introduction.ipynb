{
 "cells": [
  {
   "cell_type": "markdown",
   "metadata": {},
   "source": [
    "# Notebook 0 - Introduction to Labs20 C4ADS ARMS Project\n",
    "#### By Andrea Christelle, Ian Forrest, David Hang, Curtis McKendrick, & Andre Savkin"
   ]
  },
  {
   "cell_type": "markdown",
   "metadata": {},
   "source": [
    "   C4ADS aims to identify non-state arms exporters and front companies for state-sponsored arms exports using profiles created from known exporters and manufacturers. This training set of tagged data consists of exports from Ukrainian and Russian state-owned arms exporters, with the aim of training a model for the identification of smaller companies exporting similar products or trading with similar parties. This information may be shared with export control authorities (C4ADS has a direct partnership with the IAEA Department of Safeguards)."
   ]
  },
  {
   "cell_type": "markdown",
   "metadata": {},
   "source": [
    "   The project was started in Labs16, and was carried over and documented beautifully in Labs18 by data scientists Sean Antosiak, Elliot Gunn, Andrew Mikol, & Jason Nova. Labs18 team's initial groundwork and guidance was critical to Labs20 success.  Their work can be found in the `Labs18` folder of this SageMaker instance, and their project writeup can be accessed via the following link: https://docs.google.com/document/d/1nyjZ-eFwbfiQjSgNTu9eL-2cWWc7CuvRxOJMZZIKcWQ/edit."
   ]
  },
  {
   "cell_type": "markdown",
   "metadata": {},
   "source": [
    "   Our project aimed to build these 'profiles' for known Russian arms exporters analyzing text through natural language processing (NLP).  The dataset we analyzed, provided by C4ADS, contained over 10 million rows of Russian trade information.  Using NLP, we analyzed the text in the 'description' of every trade, and subsequently grouped bodies of similar text together using machine learning and KMeans clustering."
   ]
  },
  {
   "cell_type": "markdown",
   "metadata": {},
   "source": [
    "Once grouped, our customized product analyzes the patterns in the text of those trades and compares it with trading patterns of known arms exporters.  This is accomplished by looking at the inverse euclidian distances and pairwise distances between the observations in n-dimensional space.  In other words, it checks how similar the cluster ratios of each company are to known arms exporters."
   ]
  },
  {
   "cell_type": "markdown",
   "metadata": {},
   "source": [
    "For example, let's say trade text for known arms exporters fall heavily in clusters 2, 5, and 7.  Companies whose trade text falls in clusters 2, 5, and 7 will likely have a high similarity to known arms exporters.  Companies whose trade text falls in clusters 0, 1, and 6 will likely have a low similarity to known arms exporters, and thus not considered by our product."
   ]
  },
  {
   "cell_type": "markdown",
   "metadata": {},
   "source": [
    "The following notebooks will explore our process."
   ]
  },
  {
   "cell_type": "code",
   "execution_count": null,
   "metadata": {},
   "outputs": [],
   "source": []
  }
 ],
 "metadata": {
  "kernelspec": {
   "display_name": "conda_python3",
   "language": "python",
   "name": "conda_python3"
  },
  "language_info": {
   "codemirror_mode": {
    "name": "ipython",
    "version": 3
   },
   "file_extension": ".py",
   "mimetype": "text/x-python",
   "name": "python",
   "nbconvert_exporter": "python",
   "pygments_lexer": "ipython3",
   "version": "3.6.5"
  }
 },
 "nbformat": 4,
 "nbformat_minor": 4
}
